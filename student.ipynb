{
 "cells": [
  {
   "cell_type": "markdown",
   "metadata": {},
   "source": [
    "## Final Project Submission\n",
    "\n",
    "Please fill out:\n",
    "* Student name: Naomi Chesang Rotich\n",
    "* Student pace: part time\n",
    "* Scheduled project review date/time: 06/02/2023\n",
    "* Instructor name: Roselynn Kamau\n",
    "* Blog post URL:https://medium.com/@naomi.rotich/uncovering-the-secrets-of-box-office-success-a-deep-dive-into-the-film-industry-with-microsoft-f3fd73434569\n"
   ]
  },
  {
   "cell_type": "markdown",
   "metadata": {},
   "source": [
    "# Introduction.\n",
    "## Problem statement.\n",
    "Microsoft, recognizing the proliferation of original video content production among leading corporations, has decided to establish their own movie studio. However, lacking the internal expertise to effectively navigate the intricacies of film production, they require a comprehensive examination of the current state of the box office landscape. As a result, you have been tasked with conducting an in-depth analysis of the motion picture market to discern the prevailing trends and patterns in the industry. \n",
    "## Main objective\n",
    "To determine the most profitable film genres in the current market in order to inform the company's decision-making process for creating a new movie studio.\n",
    "## Specific objectives\n",
    "Identify the most frequent genres in the dataset. \n",
    "\n",
    "Investigate the most rated and voted genres.\n",
    "\n",
    "Identify general trends of revenue generation over years.\n",
    "\n",
    "Discover top competitors in the market.\n",
    "### Loading data.\n",
    "Import data from localhosts notebooks."
   ]
  },
  {
   "cell_type": "code",
   "execution_count": 1,
   "metadata": {},
   "outputs": [],
   "source": [
    "#libraries \n",
    "import pandas as pd\n",
    "import seaborn as sns\n",
    "import numpy as np\n",
    "import matplotlib.pyplot as plt\n",
    "%matplotlib inline"
   ]
  },
  {
   "cell_type": "code",
   "execution_count": 2,
   "metadata": {},
   "outputs": [
    {
     "data": {
      "text/html": [
       "<div>\n",
       "<style scoped>\n",
       "    .dataframe tbody tr th:only-of-type {\n",
       "        vertical-align: middle;\n",
       "    }\n",
       "\n",
       "    .dataframe tbody tr th {\n",
       "        vertical-align: top;\n",
       "    }\n",
       "\n",
       "    .dataframe thead th {\n",
       "        text-align: right;\n",
       "    }\n",
       "</style>\n",
       "<table border=\"1\" class=\"dataframe\">\n",
       "  <thead>\n",
       "    <tr style=\"text-align: right;\">\n",
       "      <th></th>\n",
       "      <th>primary_title</th>\n",
       "      <th>original_title</th>\n",
       "      <th>start_year</th>\n",
       "      <th>runtime_minutes</th>\n",
       "      <th>genres</th>\n",
       "    </tr>\n",
       "    <tr>\n",
       "      <th>tconst</th>\n",
       "      <th></th>\n",
       "      <th></th>\n",
       "      <th></th>\n",
       "      <th></th>\n",
       "      <th></th>\n",
       "    </tr>\n",
       "  </thead>\n",
       "  <tbody>\n",
       "    <tr>\n",
       "      <th>tt0063540</th>\n",
       "      <td>Sunghursh</td>\n",
       "      <td>Sunghursh</td>\n",
       "      <td>2013</td>\n",
       "      <td>175.0</td>\n",
       "      <td>Action,Crime,Drama</td>\n",
       "    </tr>\n",
       "    <tr>\n",
       "      <th>tt0066787</th>\n",
       "      <td>One Day Before the Rainy Season</td>\n",
       "      <td>Ashad Ka Ek Din</td>\n",
       "      <td>2019</td>\n",
       "      <td>114.0</td>\n",
       "      <td>Biography,Drama</td>\n",
       "    </tr>\n",
       "    <tr>\n",
       "      <th>tt0069049</th>\n",
       "      <td>The Other Side of the Wind</td>\n",
       "      <td>The Other Side of the Wind</td>\n",
       "      <td>2018</td>\n",
       "      <td>122.0</td>\n",
       "      <td>Drama</td>\n",
       "    </tr>\n",
       "    <tr>\n",
       "      <th>tt0069204</th>\n",
       "      <td>Sabse Bada Sukh</td>\n",
       "      <td>Sabse Bada Sukh</td>\n",
       "      <td>2018</td>\n",
       "      <td>NaN</td>\n",
       "      <td>Comedy,Drama</td>\n",
       "    </tr>\n",
       "    <tr>\n",
       "      <th>tt0100275</th>\n",
       "      <td>The Wandering Soap Opera</td>\n",
       "      <td>La Telenovela Errante</td>\n",
       "      <td>2017</td>\n",
       "      <td>80.0</td>\n",
       "      <td>Comedy,Drama,Fantasy</td>\n",
       "    </tr>\n",
       "  </tbody>\n",
       "</table>\n",
       "</div>"
      ],
      "text/plain": [
       "                             primary_title              original_title  \\\n",
       "tconst                                                                   \n",
       "tt0063540                        Sunghursh                   Sunghursh   \n",
       "tt0066787  One Day Before the Rainy Season             Ashad Ka Ek Din   \n",
       "tt0069049       The Other Side of the Wind  The Other Side of the Wind   \n",
       "tt0069204                  Sabse Bada Sukh             Sabse Bada Sukh   \n",
       "tt0100275         The Wandering Soap Opera       La Telenovela Errante   \n",
       "\n",
       "           start_year  runtime_minutes                genres  \n",
       "tconst                                                        \n",
       "tt0063540        2013            175.0    Action,Crime,Drama  \n",
       "tt0066787        2019            114.0       Biography,Drama  \n",
       "tt0069049        2018            122.0                 Drama  \n",
       "tt0069204        2018              NaN          Comedy,Drama  \n",
       "tt0100275        2017             80.0  Comedy,Drama,Fantasy  "
      ]
     },
     "execution_count": 2,
     "metadata": {},
     "output_type": "execute_result"
    }
   ],
   "source": [
    "# importing data\n",
    "basics_df = pd.read_csv(\"title.basics.csv\", index_col = 0)\n",
    "basics_df.head()"
   ]
  },
  {
   "cell_type": "code",
   "execution_count": 3,
   "metadata": {},
   "outputs": [
    {
     "data": {
      "text/html": [
       "<div>\n",
       "<style scoped>\n",
       "    .dataframe tbody tr th:only-of-type {\n",
       "        vertical-align: middle;\n",
       "    }\n",
       "\n",
       "    .dataframe tbody tr th {\n",
       "        vertical-align: top;\n",
       "    }\n",
       "\n",
       "    .dataframe thead th {\n",
       "        text-align: right;\n",
       "    }\n",
       "</style>\n",
       "<table border=\"1\" class=\"dataframe\">\n",
       "  <thead>\n",
       "    <tr style=\"text-align: right;\">\n",
       "      <th></th>\n",
       "      <th>title</th>\n",
       "      <th>studio</th>\n",
       "      <th>domestic_gross</th>\n",
       "      <th>foreign_gross</th>\n",
       "      <th>year</th>\n",
       "    </tr>\n",
       "  </thead>\n",
       "  <tbody>\n",
       "    <tr>\n",
       "      <th>0</th>\n",
       "      <td>Toy Story 3</td>\n",
       "      <td>BV</td>\n",
       "      <td>415000000.0</td>\n",
       "      <td>652000000</td>\n",
       "      <td>2010</td>\n",
       "    </tr>\n",
       "    <tr>\n",
       "      <th>1</th>\n",
       "      <td>Alice in Wonderland (2010)</td>\n",
       "      <td>BV</td>\n",
       "      <td>334200000.0</td>\n",
       "      <td>691300000</td>\n",
       "      <td>2010</td>\n",
       "    </tr>\n",
       "    <tr>\n",
       "      <th>2</th>\n",
       "      <td>Harry Potter and the Deathly Hallows Part 1</td>\n",
       "      <td>WB</td>\n",
       "      <td>296000000.0</td>\n",
       "      <td>664300000</td>\n",
       "      <td>2010</td>\n",
       "    </tr>\n",
       "    <tr>\n",
       "      <th>3</th>\n",
       "      <td>Inception</td>\n",
       "      <td>WB</td>\n",
       "      <td>292600000.0</td>\n",
       "      <td>535700000</td>\n",
       "      <td>2010</td>\n",
       "    </tr>\n",
       "    <tr>\n",
       "      <th>4</th>\n",
       "      <td>Shrek Forever After</td>\n",
       "      <td>P/DW</td>\n",
       "      <td>238700000.0</td>\n",
       "      <td>513900000</td>\n",
       "      <td>2010</td>\n",
       "    </tr>\n",
       "  </tbody>\n",
       "</table>\n",
       "</div>"
      ],
      "text/plain": [
       "                                         title studio  domestic_gross  \\\n",
       "0                                  Toy Story 3     BV     415000000.0   \n",
       "1                   Alice in Wonderland (2010)     BV     334200000.0   \n",
       "2  Harry Potter and the Deathly Hallows Part 1     WB     296000000.0   \n",
       "3                                    Inception     WB     292600000.0   \n",
       "4                          Shrek Forever After   P/DW     238700000.0   \n",
       "\n",
       "  foreign_gross  year  \n",
       "0     652000000  2010  \n",
       "1     691300000  2010  \n",
       "2     664300000  2010  \n",
       "3     535700000  2010  \n",
       "4     513900000  2010  "
      ]
     },
     "execution_count": 3,
     "metadata": {},
     "output_type": "execute_result"
    }
   ],
   "source": [
    "gross_df = pd.read_csv('bom.movie_gross.csv')\n",
    "gross_df.head()"
   ]
  },
  {
   "cell_type": "code",
   "execution_count": 4,
   "metadata": {},
   "outputs": [
    {
     "data": {
      "text/html": [
       "<div>\n",
       "<style scoped>\n",
       "    .dataframe tbody tr th:only-of-type {\n",
       "        vertical-align: middle;\n",
       "    }\n",
       "\n",
       "    .dataframe tbody tr th {\n",
       "        vertical-align: top;\n",
       "    }\n",
       "\n",
       "    .dataframe thead th {\n",
       "        text-align: right;\n",
       "    }\n",
       "</style>\n",
       "<table border=\"1\" class=\"dataframe\">\n",
       "  <thead>\n",
       "    <tr style=\"text-align: right;\">\n",
       "      <th></th>\n",
       "      <th>tconst</th>\n",
       "      <th>averagerating</th>\n",
       "      <th>numvotes</th>\n",
       "    </tr>\n",
       "  </thead>\n",
       "  <tbody>\n",
       "    <tr>\n",
       "      <th>0</th>\n",
       "      <td>tt10356526</td>\n",
       "      <td>8.3</td>\n",
       "      <td>31</td>\n",
       "    </tr>\n",
       "    <tr>\n",
       "      <th>1</th>\n",
       "      <td>tt10384606</td>\n",
       "      <td>8.9</td>\n",
       "      <td>559</td>\n",
       "    </tr>\n",
       "    <tr>\n",
       "      <th>2</th>\n",
       "      <td>tt1042974</td>\n",
       "      <td>6.4</td>\n",
       "      <td>20</td>\n",
       "    </tr>\n",
       "    <tr>\n",
       "      <th>3</th>\n",
       "      <td>tt1043726</td>\n",
       "      <td>4.2</td>\n",
       "      <td>50352</td>\n",
       "    </tr>\n",
       "    <tr>\n",
       "      <th>4</th>\n",
       "      <td>tt1060240</td>\n",
       "      <td>6.5</td>\n",
       "      <td>21</td>\n",
       "    </tr>\n",
       "  </tbody>\n",
       "</table>\n",
       "</div>"
      ],
      "text/plain": [
       "       tconst  averagerating  numvotes\n",
       "0  tt10356526            8.3        31\n",
       "1  tt10384606            8.9       559\n",
       "2   tt1042974            6.4        20\n",
       "3   tt1043726            4.2     50352\n",
       "4   tt1060240            6.5        21"
      ]
     },
     "execution_count": 4,
     "metadata": {},
     "output_type": "execute_result"
    }
   ],
   "source": [
    "ratings_df = pd.read_csv('title.ratings.csv')\n",
    "ratings_df.head()"
   ]
  },
  {
   "cell_type": "code",
   "execution_count": 5,
   "metadata": {},
   "outputs": [
    {
     "data": {
      "text/html": [
       "<div>\n",
       "<style scoped>\n",
       "    .dataframe tbody tr th:only-of-type {\n",
       "        vertical-align: middle;\n",
       "    }\n",
       "\n",
       "    .dataframe tbody tr th {\n",
       "        vertical-align: top;\n",
       "    }\n",
       "\n",
       "    .dataframe thead th {\n",
       "        text-align: right;\n",
       "    }\n",
       "</style>\n",
       "<table border=\"1\" class=\"dataframe\">\n",
       "  <thead>\n",
       "    <tr style=\"text-align: right;\">\n",
       "      <th></th>\n",
       "      <th>tconst</th>\n",
       "      <th>averagerating</th>\n",
       "      <th>numvotes</th>\n",
       "      <th>primary_title</th>\n",
       "      <th>original_title</th>\n",
       "      <th>start_year</th>\n",
       "      <th>runtime_minutes</th>\n",
       "      <th>genres</th>\n",
       "    </tr>\n",
       "  </thead>\n",
       "  <tbody>\n",
       "    <tr>\n",
       "      <th>0</th>\n",
       "      <td>tt10356526</td>\n",
       "      <td>8.3</td>\n",
       "      <td>31</td>\n",
       "      <td>Laiye Je Yaarian</td>\n",
       "      <td>Laiye Je Yaarian</td>\n",
       "      <td>2019</td>\n",
       "      <td>117.0</td>\n",
       "      <td>Romance</td>\n",
       "    </tr>\n",
       "    <tr>\n",
       "      <th>1</th>\n",
       "      <td>tt10384606</td>\n",
       "      <td>8.9</td>\n",
       "      <td>559</td>\n",
       "      <td>Borderless</td>\n",
       "      <td>Borderless</td>\n",
       "      <td>2019</td>\n",
       "      <td>87.0</td>\n",
       "      <td>Documentary</td>\n",
       "    </tr>\n",
       "    <tr>\n",
       "      <th>2</th>\n",
       "      <td>tt1042974</td>\n",
       "      <td>6.4</td>\n",
       "      <td>20</td>\n",
       "      <td>Just Inès</td>\n",
       "      <td>Just Inès</td>\n",
       "      <td>2010</td>\n",
       "      <td>90.0</td>\n",
       "      <td>Drama</td>\n",
       "    </tr>\n",
       "    <tr>\n",
       "      <th>3</th>\n",
       "      <td>tt1043726</td>\n",
       "      <td>4.2</td>\n",
       "      <td>50352</td>\n",
       "      <td>The Legend of Hercules</td>\n",
       "      <td>The Legend of Hercules</td>\n",
       "      <td>2014</td>\n",
       "      <td>99.0</td>\n",
       "      <td>Action,Adventure,Fantasy</td>\n",
       "    </tr>\n",
       "    <tr>\n",
       "      <th>4</th>\n",
       "      <td>tt1060240</td>\n",
       "      <td>6.5</td>\n",
       "      <td>21</td>\n",
       "      <td>Até Onde?</td>\n",
       "      <td>Até Onde?</td>\n",
       "      <td>2011</td>\n",
       "      <td>73.0</td>\n",
       "      <td>Mystery,Thriller</td>\n",
       "    </tr>\n",
       "  </tbody>\n",
       "</table>\n",
       "</div>"
      ],
      "text/plain": [
       "       tconst  averagerating  numvotes           primary_title  \\\n",
       "0  tt10356526            8.3        31        Laiye Je Yaarian   \n",
       "1  tt10384606            8.9       559              Borderless   \n",
       "2   tt1042974            6.4        20               Just Inès   \n",
       "3   tt1043726            4.2     50352  The Legend of Hercules   \n",
       "4   tt1060240            6.5        21               Até Onde?   \n",
       "\n",
       "           original_title  start_year  runtime_minutes  \\\n",
       "0        Laiye Je Yaarian        2019            117.0   \n",
       "1              Borderless        2019             87.0   \n",
       "2               Just Inès        2010             90.0   \n",
       "3  The Legend of Hercules        2014             99.0   \n",
       "4               Até Onde?        2011             73.0   \n",
       "\n",
       "                     genres  \n",
       "0                   Romance  \n",
       "1               Documentary  \n",
       "2                     Drama  \n",
       "3  Action,Adventure,Fantasy  \n",
       "4          Mystery,Thriller  "
      ]
     },
     "execution_count": 5,
     "metadata": {},
     "output_type": "execute_result"
    }
   ],
   "source": [
    "# Join the title.ratings.csv and title.basics.csv datasets on the \"tconst\" column\n",
    "ratings_basics_df = pd.merge(ratings_df, basics_df, on='tconst')\n",
    "ratings_basics_df.head()"
   ]
  },
  {
   "cell_type": "code",
   "execution_count": 6,
   "metadata": {},
   "outputs": [
    {
     "data": {
      "text/html": [
       "<div>\n",
       "<style scoped>\n",
       "    .dataframe tbody tr th:only-of-type {\n",
       "        vertical-align: middle;\n",
       "    }\n",
       "\n",
       "    .dataframe tbody tr th {\n",
       "        vertical-align: top;\n",
       "    }\n",
       "\n",
       "    .dataframe thead th {\n",
       "        text-align: right;\n",
       "    }\n",
       "</style>\n",
       "<table border=\"1\" class=\"dataframe\">\n",
       "  <thead>\n",
       "    <tr style=\"text-align: right;\">\n",
       "      <th></th>\n",
       "      <th>tconst</th>\n",
       "      <th>averagerating</th>\n",
       "      <th>numvotes</th>\n",
       "      <th>primary_title</th>\n",
       "      <th>original_title</th>\n",
       "      <th>start_year</th>\n",
       "      <th>runtime_minutes</th>\n",
       "      <th>genres</th>\n",
       "      <th>title</th>\n",
       "      <th>studio</th>\n",
       "      <th>domestic_gross</th>\n",
       "      <th>foreign_gross</th>\n",
       "      <th>year</th>\n",
       "    </tr>\n",
       "  </thead>\n",
       "  <tbody>\n",
       "    <tr>\n",
       "      <th>0</th>\n",
       "      <td>tt1043726</td>\n",
       "      <td>4.2</td>\n",
       "      <td>50352</td>\n",
       "      <td>The Legend of Hercules</td>\n",
       "      <td>The Legend of Hercules</td>\n",
       "      <td>2014</td>\n",
       "      <td>99.0</td>\n",
       "      <td>Action,Adventure,Fantasy</td>\n",
       "      <td>The Legend of Hercules</td>\n",
       "      <td>LG/S</td>\n",
       "      <td>18800000.0</td>\n",
       "      <td>42400000</td>\n",
       "      <td>2014</td>\n",
       "    </tr>\n",
       "    <tr>\n",
       "      <th>1</th>\n",
       "      <td>tt1171222</td>\n",
       "      <td>5.1</td>\n",
       "      <td>8296</td>\n",
       "      <td>Baggage Claim</td>\n",
       "      <td>Baggage Claim</td>\n",
       "      <td>2013</td>\n",
       "      <td>96.0</td>\n",
       "      <td>Comedy</td>\n",
       "      <td>Baggage Claim</td>\n",
       "      <td>FoxS</td>\n",
       "      <td>21600000.0</td>\n",
       "      <td>887000</td>\n",
       "      <td>2013</td>\n",
       "    </tr>\n",
       "    <tr>\n",
       "      <th>2</th>\n",
       "      <td>tt1181840</td>\n",
       "      <td>7.0</td>\n",
       "      <td>5494</td>\n",
       "      <td>Jack and the Cuckoo-Clock Heart</td>\n",
       "      <td>Jack et la mécanique du coeur</td>\n",
       "      <td>2013</td>\n",
       "      <td>94.0</td>\n",
       "      <td>Adventure,Animation,Drama</td>\n",
       "      <td>Jack and the Cuckoo-Clock Heart</td>\n",
       "      <td>Shout!</td>\n",
       "      <td>NaN</td>\n",
       "      <td>3400000</td>\n",
       "      <td>2014</td>\n",
       "    </tr>\n",
       "    <tr>\n",
       "      <th>3</th>\n",
       "      <td>tt1210166</td>\n",
       "      <td>7.6</td>\n",
       "      <td>326657</td>\n",
       "      <td>Moneyball</td>\n",
       "      <td>Moneyball</td>\n",
       "      <td>2011</td>\n",
       "      <td>133.0</td>\n",
       "      <td>Biography,Drama,Sport</td>\n",
       "      <td>Moneyball</td>\n",
       "      <td>Sony</td>\n",
       "      <td>75600000.0</td>\n",
       "      <td>34600000</td>\n",
       "      <td>2011</td>\n",
       "    </tr>\n",
       "    <tr>\n",
       "      <th>4</th>\n",
       "      <td>tt1212419</td>\n",
       "      <td>6.5</td>\n",
       "      <td>87288</td>\n",
       "      <td>Hereafter</td>\n",
       "      <td>Hereafter</td>\n",
       "      <td>2010</td>\n",
       "      <td>129.0</td>\n",
       "      <td>Drama,Fantasy,Romance</td>\n",
       "      <td>Hereafter</td>\n",
       "      <td>WB</td>\n",
       "      <td>32700000.0</td>\n",
       "      <td>72500000</td>\n",
       "      <td>2010</td>\n",
       "    </tr>\n",
       "  </tbody>\n",
       "</table>\n",
       "</div>"
      ],
      "text/plain": [
       "      tconst  averagerating  numvotes                    primary_title  \\\n",
       "0  tt1043726            4.2     50352           The Legend of Hercules   \n",
       "1  tt1171222            5.1      8296                    Baggage Claim   \n",
       "2  tt1181840            7.0      5494  Jack and the Cuckoo-Clock Heart   \n",
       "3  tt1210166            7.6    326657                        Moneyball   \n",
       "4  tt1212419            6.5     87288                        Hereafter   \n",
       "\n",
       "                  original_title  start_year  runtime_minutes  \\\n",
       "0         The Legend of Hercules        2014             99.0   \n",
       "1                  Baggage Claim        2013             96.0   \n",
       "2  Jack et la mécanique du coeur        2013             94.0   \n",
       "3                      Moneyball        2011            133.0   \n",
       "4                      Hereafter        2010            129.0   \n",
       "\n",
       "                      genres                            title  studio  \\\n",
       "0   Action,Adventure,Fantasy           The Legend of Hercules    LG/S   \n",
       "1                     Comedy                    Baggage Claim    FoxS   \n",
       "2  Adventure,Animation,Drama  Jack and the Cuckoo-Clock Heart  Shout!   \n",
       "3      Biography,Drama,Sport                        Moneyball    Sony   \n",
       "4      Drama,Fantasy,Romance                        Hereafter      WB   \n",
       "\n",
       "   domestic_gross foreign_gross  year  \n",
       "0      18800000.0      42400000  2014  \n",
       "1      21600000.0        887000  2013  \n",
       "2             NaN       3400000  2014  \n",
       "3      75600000.0      34600000  2011  \n",
       "4      32700000.0      72500000  2010  "
      ]
     },
     "execution_count": 6,
     "metadata": {},
     "output_type": "execute_result"
    }
   ],
   "source": [
    "# Join the resulting dataset with the bom.movie_gross.csv dataset on the \"title\" column\n",
    "df = pd.merge(ratings_basics_df, gross_df, left_on='primary_title', right_on='title')\n",
    "df.head()"
   ]
  },
  {
   "cell_type": "code",
   "execution_count": 7,
   "metadata": {},
   "outputs": [
    {
     "name": "stdout",
     "output_type": "stream",
     "text": [
      "<class 'pandas.core.frame.DataFrame'>\n",
      "Int64Index: 3027 entries, 0 to 3026\n",
      "Data columns (total 13 columns):\n",
      " #   Column           Non-Null Count  Dtype  \n",
      "---  ------           --------------  -----  \n",
      " 0   tconst           3027 non-null   object \n",
      " 1   averagerating    3027 non-null   float64\n",
      " 2   numvotes         3027 non-null   int64  \n",
      " 3   primary_title    3027 non-null   object \n",
      " 4   original_title   3027 non-null   object \n",
      " 5   start_year       3027 non-null   int64  \n",
      " 6   runtime_minutes  2980 non-null   float64\n",
      " 7   genres           3020 non-null   object \n",
      " 8   title            3027 non-null   object \n",
      " 9   studio           3024 non-null   object \n",
      " 10  domestic_gross   3005 non-null   float64\n",
      " 11  foreign_gross    1832 non-null   object \n",
      " 12  year             3027 non-null   int64  \n",
      "dtypes: float64(3), int64(3), object(7)\n",
      "memory usage: 331.1+ KB\n"
     ]
    }
   ],
   "source": [
    "df.info()"
   ]
  },
  {
   "cell_type": "markdown",
   "metadata": {},
   "source": [
    "# Preprocess of data\n",
    "This includes cleaning, scrubbing, handling missing values. \n",
    "## Duplicated columns\n",
    "From the resulting table, we have three columns containing title names and year, having all of them would not be of help, hence dropping original_title and title is a good idea.\n"
   ]
  },
  {
   "cell_type": "code",
   "execution_count": 8,
   "metadata": {},
   "outputs": [],
   "source": [
    "# dropping the original_title and title columns\n",
    "df.drop(columns = ['original_title', 'title','year','tconst'], axis = 1, inplace = True)"
   ]
  },
  {
   "cell_type": "code",
   "execution_count": 9,
   "metadata": {},
   "outputs": [
    {
     "name": "stdout",
     "output_type": "stream",
     "text": [
      "<class 'pandas.core.frame.DataFrame'>\n",
      "Int64Index: 3027 entries, 0 to 3026\n",
      "Data columns (total 9 columns):\n",
      " #   Column           Non-Null Count  Dtype  \n",
      "---  ------           --------------  -----  \n",
      " 0   averagerating    3027 non-null   float64\n",
      " 1   numvotes         3027 non-null   int64  \n",
      " 2   primary_title    3027 non-null   object \n",
      " 3   start_year       3027 non-null   int64  \n",
      " 4   runtime_minutes  2980 non-null   float64\n",
      " 5   genres           3020 non-null   object \n",
      " 6   studio           3024 non-null   object \n",
      " 7   domestic_gross   3005 non-null   float64\n",
      " 8   foreign_gross    1832 non-null   object \n",
      "dtypes: float64(3), int64(2), object(4)\n",
      "memory usage: 236.5+ KB\n"
     ]
    }
   ],
   "source": [
    "df.info()"
   ]
  },
  {
   "cell_type": "markdown",
   "metadata": {},
   "source": [
    "## Missing values\n",
    "For the null values, we can either drop them or impute them with mean, median, or using special identifiers. This depends with on the nature of data."
   ]
  },
  {
   "cell_type": "code",
   "execution_count": 10,
   "metadata": {
    "scrolled": true
   },
   "outputs": [
    {
     "data": {
      "text/plain": [
       "averagerating         0\n",
       "numvotes              0\n",
       "primary_title         0\n",
       "start_year            0\n",
       "runtime_minutes      47\n",
       "genres                7\n",
       "studio                3\n",
       "domestic_gross       22\n",
       "foreign_gross      1195\n",
       "dtype: int64"
      ]
     },
     "execution_count": 10,
     "metadata": {},
     "output_type": "execute_result"
    }
   ],
   "source": [
    "# checking for missing values\n",
    "df.isna().sum()"
   ]
  },
  {
   "cell_type": "code",
   "execution_count": 11,
   "metadata": {},
   "outputs": [
    {
     "data": {
      "text/html": [
       "<div>\n",
       "<style scoped>\n",
       "    .dataframe tbody tr th:only-of-type {\n",
       "        vertical-align: middle;\n",
       "    }\n",
       "\n",
       "    .dataframe tbody tr th {\n",
       "        vertical-align: top;\n",
       "    }\n",
       "\n",
       "    .dataframe thead th {\n",
       "        text-align: right;\n",
       "    }\n",
       "</style>\n",
       "<table border=\"1\" class=\"dataframe\">\n",
       "  <thead>\n",
       "    <tr style=\"text-align: right;\">\n",
       "      <th></th>\n",
       "      <th>Missing Values</th>\n",
       "      <th>Percentage(%)</th>\n",
       "    </tr>\n",
       "  </thead>\n",
       "  <tbody>\n",
       "    <tr>\n",
       "      <th>foreign_gross</th>\n",
       "      <td>1195</td>\n",
       "      <td>0.394780</td>\n",
       "    </tr>\n",
       "    <tr>\n",
       "      <th>runtime_minutes</th>\n",
       "      <td>47</td>\n",
       "      <td>0.015527</td>\n",
       "    </tr>\n",
       "    <tr>\n",
       "      <th>domestic_gross</th>\n",
       "      <td>22</td>\n",
       "      <td>0.007268</td>\n",
       "    </tr>\n",
       "    <tr>\n",
       "      <th>genres</th>\n",
       "      <td>7</td>\n",
       "      <td>0.002313</td>\n",
       "    </tr>\n",
       "    <tr>\n",
       "      <th>studio</th>\n",
       "      <td>3</td>\n",
       "      <td>0.000991</td>\n",
       "    </tr>\n",
       "  </tbody>\n",
       "</table>\n",
       "</div>"
      ],
      "text/plain": [
       "                 Missing Values  Percentage(%)\n",
       "foreign_gross              1195       0.394780\n",
       "runtime_minutes              47       0.015527\n",
       "domestic_gross               22       0.007268\n",
       "genres                        7       0.002313\n",
       "studio                        3       0.000991"
      ]
     },
     "execution_count": 11,
     "metadata": {},
     "output_type": "execute_result"
    }
   ],
   "source": [
    "def missing_values(data):\n",
    "     # identify the total missing values per column\n",
    "    miss = data.isnull().sum().sort_values(ascending = False)\n",
    "     # calculate percentage of the missing values\n",
    "    percentage_miss = (data.isnull().sum() / len(data)).sort_values(ascending = False)\n",
    "    # store in a dataframe \n",
    "    missing = pd.DataFrame({\"Missing Values\": miss, \"Percentage(%)\": percentage_miss})\n",
    "\n",
    "    # remove values that are missing \n",
    "    missing.drop(missing[missing[\"Percentage(%)\"] == 0].index, inplace = True)\n",
    "\n",
    "    return missing\n",
    "\n",
    "\n",
    "missing_data = missing_values(df)\n",
    "missing_data\n"
   ]
  },
  {
   "cell_type": "markdown",
   "metadata": {},
   "source": [
    "From the output, variable genre, studio, and runtime in minutes has negligible missing values and dropping them would not affect the performance of our model. Filling the missing values will not be the best option since each movie has a inique title and runtimes. For the domestic and foreign gross columns, they are dependant on the type of studio, such that movies on a prticular studio has high gross revenue generated both domestically and outside compared to the others. For this reason, dropping the missing values will be rightful to avoid over estimate or under estimate the revenue generated by certain studios which might bring bias in our analysis. \n"
   ]
  },
  {
   "cell_type": "code",
   "execution_count": 12,
   "metadata": {},
   "outputs": [],
   "source": [
    "#dropping rows with null values\n",
    "df.dropna(axis=0, inplace=True)"
   ]
  },
  {
   "cell_type": "code",
   "execution_count": 13,
   "metadata": {},
   "outputs": [
    {
     "data": {
      "text/plain": [
       "averagerating      0\n",
       "numvotes           0\n",
       "primary_title      0\n",
       "start_year         0\n",
       "runtime_minutes    0\n",
       "genres             0\n",
       "studio             0\n",
       "domestic_gross     0\n",
       "foreign_gross      0\n",
       "dtype: int64"
      ]
     },
     "execution_count": 13,
     "metadata": {},
     "output_type": "execute_result"
    }
   ],
   "source": [
    "df.isna().sum()"
   ]
  },
  {
   "cell_type": "code",
   "execution_count": 14,
   "metadata": {},
   "outputs": [
    {
     "data": {
      "text/plain": [
       "0     42400000.0\n",
       "1       887000.0\n",
       "3     34600000.0\n",
       "4     72500000.0\n",
       "5    485300000.0\n",
       "Name: foreign_gross, dtype: float64"
      ]
     },
     "execution_count": 14,
     "metadata": {},
     "output_type": "execute_result"
    }
   ],
   "source": [
    "# foreign_gross is of datatype object instead of float\n",
    "# foreign_gross to float\n",
    "df[\"foreign_gross\"] = df[\"foreign_gross\"].str.replace(',' ,'').astype(float)\n",
    "df[\"foreign_gross\"].head()"
   ]
  },
  {
   "cell_type": "code",
   "execution_count": 15,
   "metadata": {},
   "outputs": [
    {
     "data": {
      "text/html": [
       "<div>\n",
       "<style scoped>\n",
       "    .dataframe tbody tr th:only-of-type {\n",
       "        vertical-align: middle;\n",
       "    }\n",
       "\n",
       "    .dataframe tbody tr th {\n",
       "        vertical-align: top;\n",
       "    }\n",
       "\n",
       "    .dataframe thead th {\n",
       "        text-align: right;\n",
       "    }\n",
       "</style>\n",
       "<table border=\"1\" class=\"dataframe\">\n",
       "  <thead>\n",
       "    <tr style=\"text-align: right;\">\n",
       "      <th></th>\n",
       "      <th>averagerating</th>\n",
       "      <th>numvotes</th>\n",
       "      <th>primary_title</th>\n",
       "      <th>start_year</th>\n",
       "      <th>runtime_minutes</th>\n",
       "      <th>genres</th>\n",
       "      <th>studio</th>\n",
       "      <th>domestic_gross</th>\n",
       "      <th>foreign_gross</th>\n",
       "    </tr>\n",
       "  </thead>\n",
       "  <tbody>\n",
       "    <tr>\n",
       "      <th>0</th>\n",
       "      <td>4.2</td>\n",
       "      <td>50352</td>\n",
       "      <td>The Legend of Hercules</td>\n",
       "      <td>2014</td>\n",
       "      <td>99.0</td>\n",
       "      <td>Action,Adventure,Fantasy</td>\n",
       "      <td>LG/S</td>\n",
       "      <td>18800000.0</td>\n",
       "      <td>42400000.0</td>\n",
       "    </tr>\n",
       "    <tr>\n",
       "      <th>1</th>\n",
       "      <td>5.1</td>\n",
       "      <td>8296</td>\n",
       "      <td>Baggage Claim</td>\n",
       "      <td>2013</td>\n",
       "      <td>96.0</td>\n",
       "      <td>Comedy</td>\n",
       "      <td>FoxS</td>\n",
       "      <td>21600000.0</td>\n",
       "      <td>887000.0</td>\n",
       "    </tr>\n",
       "    <tr>\n",
       "      <th>3</th>\n",
       "      <td>7.6</td>\n",
       "      <td>326657</td>\n",
       "      <td>Moneyball</td>\n",
       "      <td>2011</td>\n",
       "      <td>133.0</td>\n",
       "      <td>Biography,Drama,Sport</td>\n",
       "      <td>Sony</td>\n",
       "      <td>75600000.0</td>\n",
       "      <td>34600000.0</td>\n",
       "    </tr>\n",
       "    <tr>\n",
       "      <th>4</th>\n",
       "      <td>6.5</td>\n",
       "      <td>87288</td>\n",
       "      <td>Hereafter</td>\n",
       "      <td>2010</td>\n",
       "      <td>129.0</td>\n",
       "      <td>Drama,Fantasy,Romance</td>\n",
       "      <td>WB</td>\n",
       "      <td>32700000.0</td>\n",
       "      <td>72500000.0</td>\n",
       "    </tr>\n",
       "    <tr>\n",
       "      <th>5</th>\n",
       "      <td>7.4</td>\n",
       "      <td>428142</td>\n",
       "      <td>Mission: Impossible - Ghost Protocol</td>\n",
       "      <td>2011</td>\n",
       "      <td>132.0</td>\n",
       "      <td>Action,Adventure,Thriller</td>\n",
       "      <td>Par.</td>\n",
       "      <td>209400000.0</td>\n",
       "      <td>485300000.0</td>\n",
       "    </tr>\n",
       "  </tbody>\n",
       "</table>\n",
       "</div>"
      ],
      "text/plain": [
       "   averagerating  numvotes                         primary_title  start_year  \\\n",
       "0            4.2     50352                The Legend of Hercules        2014   \n",
       "1            5.1      8296                         Baggage Claim        2013   \n",
       "3            7.6    326657                             Moneyball        2011   \n",
       "4            6.5     87288                             Hereafter        2010   \n",
       "5            7.4    428142  Mission: Impossible - Ghost Protocol        2011   \n",
       "\n",
       "   runtime_minutes                     genres studio  domestic_gross  \\\n",
       "0             99.0   Action,Adventure,Fantasy   LG/S      18800000.0   \n",
       "1             96.0                     Comedy   FoxS      21600000.0   \n",
       "3            133.0      Biography,Drama,Sport   Sony      75600000.0   \n",
       "4            129.0      Drama,Fantasy,Romance     WB      32700000.0   \n",
       "5            132.0  Action,Adventure,Thriller   Par.     209400000.0   \n",
       "\n",
       "   foreign_gross  \n",
       "0     42400000.0  \n",
       "1       887000.0  \n",
       "3     34600000.0  \n",
       "4     72500000.0  \n",
       "5    485300000.0  "
      ]
     },
     "execution_count": 15,
     "metadata": {},
     "output_type": "execute_result"
    }
   ],
   "source": [
    "df.head()"
   ]
  },
  {
   "cell_type": "code",
   "execution_count": 16,
   "metadata": {},
   "outputs": [
    {
     "data": {
      "text/plain": [
       "'Action'"
      ]
     },
     "execution_count": 16,
     "metadata": {},
     "output_type": "execute_result"
    }
   ],
   "source": [
    "df['genre']=df['genres'].str.split(\",\", expand= True)[0]\n",
    "df['genre'][0]"
   ]
  },
  {
   "cell_type": "code",
   "execution_count": 17,
   "metadata": {},
   "outputs": [
    {
     "data": {
      "text/html": [
       "<div>\n",
       "<style scoped>\n",
       "    .dataframe tbody tr th:only-of-type {\n",
       "        vertical-align: middle;\n",
       "    }\n",
       "\n",
       "    .dataframe tbody tr th {\n",
       "        vertical-align: top;\n",
       "    }\n",
       "\n",
       "    .dataframe thead th {\n",
       "        text-align: right;\n",
       "    }\n",
       "</style>\n",
       "<table border=\"1\" class=\"dataframe\">\n",
       "  <thead>\n",
       "    <tr style=\"text-align: right;\">\n",
       "      <th></th>\n",
       "      <th>averagerating</th>\n",
       "      <th>numvotes</th>\n",
       "      <th>primary_title</th>\n",
       "      <th>start_year</th>\n",
       "      <th>runtime_minutes</th>\n",
       "      <th>genres</th>\n",
       "      <th>studio</th>\n",
       "      <th>domestic_gross</th>\n",
       "      <th>foreign_gross</th>\n",
       "      <th>genre</th>\n",
       "    </tr>\n",
       "  </thead>\n",
       "  <tbody>\n",
       "    <tr>\n",
       "      <th>0</th>\n",
       "      <td>4.2</td>\n",
       "      <td>50352</td>\n",
       "      <td>The Legend of Hercules</td>\n",
       "      <td>2014</td>\n",
       "      <td>99.0</td>\n",
       "      <td>Action,Adventure,Fantasy</td>\n",
       "      <td>LG/S</td>\n",
       "      <td>18800000.0</td>\n",
       "      <td>42400000.0</td>\n",
       "      <td>Action</td>\n",
       "    </tr>\n",
       "    <tr>\n",
       "      <th>1</th>\n",
       "      <td>5.1</td>\n",
       "      <td>8296</td>\n",
       "      <td>Baggage Claim</td>\n",
       "      <td>2013</td>\n",
       "      <td>96.0</td>\n",
       "      <td>Comedy</td>\n",
       "      <td>FoxS</td>\n",
       "      <td>21600000.0</td>\n",
       "      <td>887000.0</td>\n",
       "      <td>Comedy</td>\n",
       "    </tr>\n",
       "    <tr>\n",
       "      <th>3</th>\n",
       "      <td>7.6</td>\n",
       "      <td>326657</td>\n",
       "      <td>Moneyball</td>\n",
       "      <td>2011</td>\n",
       "      <td>133.0</td>\n",
       "      <td>Biography,Drama,Sport</td>\n",
       "      <td>Sony</td>\n",
       "      <td>75600000.0</td>\n",
       "      <td>34600000.0</td>\n",
       "      <td>Biography</td>\n",
       "    </tr>\n",
       "    <tr>\n",
       "      <th>4</th>\n",
       "      <td>6.5</td>\n",
       "      <td>87288</td>\n",
       "      <td>Hereafter</td>\n",
       "      <td>2010</td>\n",
       "      <td>129.0</td>\n",
       "      <td>Drama,Fantasy,Romance</td>\n",
       "      <td>WB</td>\n",
       "      <td>32700000.0</td>\n",
       "      <td>72500000.0</td>\n",
       "      <td>Drama</td>\n",
       "    </tr>\n",
       "    <tr>\n",
       "      <th>5</th>\n",
       "      <td>7.4</td>\n",
       "      <td>428142</td>\n",
       "      <td>Mission: Impossible - Ghost Protocol</td>\n",
       "      <td>2011</td>\n",
       "      <td>132.0</td>\n",
       "      <td>Action,Adventure,Thriller</td>\n",
       "      <td>Par.</td>\n",
       "      <td>209400000.0</td>\n",
       "      <td>485300000.0</td>\n",
       "      <td>Action</td>\n",
       "    </tr>\n",
       "  </tbody>\n",
       "</table>\n",
       "</div>"
      ],
      "text/plain": [
       "   averagerating  numvotes                         primary_title  start_year  \\\n",
       "0            4.2     50352                The Legend of Hercules        2014   \n",
       "1            5.1      8296                         Baggage Claim        2013   \n",
       "3            7.6    326657                             Moneyball        2011   \n",
       "4            6.5     87288                             Hereafter        2010   \n",
       "5            7.4    428142  Mission: Impossible - Ghost Protocol        2011   \n",
       "\n",
       "   runtime_minutes                     genres studio  domestic_gross  \\\n",
       "0             99.0   Action,Adventure,Fantasy   LG/S      18800000.0   \n",
       "1             96.0                     Comedy   FoxS      21600000.0   \n",
       "3            133.0      Biography,Drama,Sport   Sony      75600000.0   \n",
       "4            129.0      Drama,Fantasy,Romance     WB      32700000.0   \n",
       "5            132.0  Action,Adventure,Thriller   Par.     209400000.0   \n",
       "\n",
       "   foreign_gross      genre  \n",
       "0     42400000.0     Action  \n",
       "1       887000.0     Comedy  \n",
       "3     34600000.0  Biography  \n",
       "4     72500000.0      Drama  \n",
       "5    485300000.0     Action  "
      ]
     },
     "execution_count": 17,
     "metadata": {},
     "output_type": "execute_result"
    }
   ],
   "source": [
    "df.head()"
   ]
  },
  {
   "cell_type": "code",
   "execution_count": 18,
   "metadata": {},
   "outputs": [],
   "source": [
    "df.drop(columns = ['genres'], axis=1, inplace = True)"
   ]
  },
  {
   "cell_type": "code",
   "execution_count": 19,
   "metadata": {},
   "outputs": [
    {
     "data": {
      "text/html": [
       "<div>\n",
       "<style scoped>\n",
       "    .dataframe tbody tr th:only-of-type {\n",
       "        vertical-align: middle;\n",
       "    }\n",
       "\n",
       "    .dataframe tbody tr th {\n",
       "        vertical-align: top;\n",
       "    }\n",
       "\n",
       "    .dataframe thead th {\n",
       "        text-align: right;\n",
       "    }\n",
       "</style>\n",
       "<table border=\"1\" class=\"dataframe\">\n",
       "  <thead>\n",
       "    <tr style=\"text-align: right;\">\n",
       "      <th></th>\n",
       "      <th>averagerating</th>\n",
       "      <th>numvotes</th>\n",
       "      <th>primary_title</th>\n",
       "      <th>start_year</th>\n",
       "      <th>runtime_minutes</th>\n",
       "      <th>studio</th>\n",
       "      <th>domestic_gross</th>\n",
       "      <th>foreign_gross</th>\n",
       "      <th>genre</th>\n",
       "    </tr>\n",
       "  </thead>\n",
       "  <tbody>\n",
       "    <tr>\n",
       "      <th>0</th>\n",
       "      <td>4.2</td>\n",
       "      <td>50352</td>\n",
       "      <td>The Legend of Hercules</td>\n",
       "      <td>2014</td>\n",
       "      <td>99.0</td>\n",
       "      <td>LG/S</td>\n",
       "      <td>18800000.0</td>\n",
       "      <td>42400000.0</td>\n",
       "      <td>Action</td>\n",
       "    </tr>\n",
       "    <tr>\n",
       "      <th>1</th>\n",
       "      <td>5.1</td>\n",
       "      <td>8296</td>\n",
       "      <td>Baggage Claim</td>\n",
       "      <td>2013</td>\n",
       "      <td>96.0</td>\n",
       "      <td>FoxS</td>\n",
       "      <td>21600000.0</td>\n",
       "      <td>887000.0</td>\n",
       "      <td>Comedy</td>\n",
       "    </tr>\n",
       "    <tr>\n",
       "      <th>3</th>\n",
       "      <td>7.6</td>\n",
       "      <td>326657</td>\n",
       "      <td>Moneyball</td>\n",
       "      <td>2011</td>\n",
       "      <td>133.0</td>\n",
       "      <td>Sony</td>\n",
       "      <td>75600000.0</td>\n",
       "      <td>34600000.0</td>\n",
       "      <td>Biography</td>\n",
       "    </tr>\n",
       "    <tr>\n",
       "      <th>4</th>\n",
       "      <td>6.5</td>\n",
       "      <td>87288</td>\n",
       "      <td>Hereafter</td>\n",
       "      <td>2010</td>\n",
       "      <td>129.0</td>\n",
       "      <td>WB</td>\n",
       "      <td>32700000.0</td>\n",
       "      <td>72500000.0</td>\n",
       "      <td>Drama</td>\n",
       "    </tr>\n",
       "    <tr>\n",
       "      <th>5</th>\n",
       "      <td>7.4</td>\n",
       "      <td>428142</td>\n",
       "      <td>Mission: Impossible - Ghost Protocol</td>\n",
       "      <td>2011</td>\n",
       "      <td>132.0</td>\n",
       "      <td>Par.</td>\n",
       "      <td>209400000.0</td>\n",
       "      <td>485300000.0</td>\n",
       "      <td>Action</td>\n",
       "    </tr>\n",
       "  </tbody>\n",
       "</table>\n",
       "</div>"
      ],
      "text/plain": [
       "   averagerating  numvotes                         primary_title  start_year  \\\n",
       "0            4.2     50352                The Legend of Hercules        2014   \n",
       "1            5.1      8296                         Baggage Claim        2013   \n",
       "3            7.6    326657                             Moneyball        2011   \n",
       "4            6.5     87288                             Hereafter        2010   \n",
       "5            7.4    428142  Mission: Impossible - Ghost Protocol        2011   \n",
       "\n",
       "   runtime_minutes studio  domestic_gross  foreign_gross      genre  \n",
       "0             99.0   LG/S      18800000.0     42400000.0     Action  \n",
       "1             96.0   FoxS      21600000.0       887000.0     Comedy  \n",
       "3            133.0   Sony      75600000.0     34600000.0  Biography  \n",
       "4            129.0     WB      32700000.0     72500000.0      Drama  \n",
       "5            132.0   Par.     209400000.0    485300000.0     Action  "
      ]
     },
     "execution_count": 19,
     "metadata": {},
     "output_type": "execute_result"
    }
   ],
   "source": [
    "df.head()"
   ]
  },
  {
   "cell_type": "code",
   "execution_count": 20,
   "metadata": {},
   "outputs": [
    {
     "data": {
      "text/html": [
       "<div>\n",
       "<style scoped>\n",
       "    .dataframe tbody tr th:only-of-type {\n",
       "        vertical-align: middle;\n",
       "    }\n",
       "\n",
       "    .dataframe tbody tr th {\n",
       "        vertical-align: top;\n",
       "    }\n",
       "\n",
       "    .dataframe thead th {\n",
       "        text-align: right;\n",
       "    }\n",
       "</style>\n",
       "<table border=\"1\" class=\"dataframe\">\n",
       "  <thead>\n",
       "    <tr style=\"text-align: right;\">\n",
       "      <th></th>\n",
       "      <th>averagerating</th>\n",
       "      <th>numvotes</th>\n",
       "      <th>start_year</th>\n",
       "      <th>runtime_minutes</th>\n",
       "      <th>domestic_gross</th>\n",
       "      <th>foreign_gross</th>\n",
       "    </tr>\n",
       "  </thead>\n",
       "  <tbody>\n",
       "    <tr>\n",
       "      <th>count</th>\n",
       "      <td>1767.000000</td>\n",
       "      <td>1.767000e+03</td>\n",
       "      <td>1767.000000</td>\n",
       "      <td>1767.000000</td>\n",
       "      <td>1.767000e+03</td>\n",
       "      <td>1.767000e+03</td>\n",
       "    </tr>\n",
       "    <tr>\n",
       "      <th>mean</th>\n",
       "      <td>6.459706</td>\n",
       "      <td>9.692010e+04</td>\n",
       "      <td>2013.559706</td>\n",
       "      <td>107.895869</td>\n",
       "      <td>5.008103e+07</td>\n",
       "      <td>7.959582e+07</td>\n",
       "    </tr>\n",
       "    <tr>\n",
       "      <th>std</th>\n",
       "      <td>0.991033</td>\n",
       "      <td>1.539057e+05</td>\n",
       "      <td>2.621180</td>\n",
       "      <td>20.105904</td>\n",
       "      <td>8.101089e+07</td>\n",
       "      <td>1.403646e+08</td>\n",
       "    </tr>\n",
       "    <tr>\n",
       "      <th>min</th>\n",
       "      <td>1.600000</td>\n",
       "      <td>5.000000e+00</td>\n",
       "      <td>2010.000000</td>\n",
       "      <td>3.000000</td>\n",
       "      <td>4.000000e+02</td>\n",
       "      <td>6.000000e+02</td>\n",
       "    </tr>\n",
       "    <tr>\n",
       "      <th>25%</th>\n",
       "      <td>5.900000</td>\n",
       "      <td>6.392500e+03</td>\n",
       "      <td>2011.000000</td>\n",
       "      <td>95.000000</td>\n",
       "      <td>1.300000e+06</td>\n",
       "      <td>4.900000e+06</td>\n",
       "    </tr>\n",
       "    <tr>\n",
       "      <th>50%</th>\n",
       "      <td>6.500000</td>\n",
       "      <td>3.987000e+04</td>\n",
       "      <td>2013.000000</td>\n",
       "      <td>106.000000</td>\n",
       "      <td>2.110000e+07</td>\n",
       "      <td>2.150000e+07</td>\n",
       "    </tr>\n",
       "    <tr>\n",
       "      <th>75%</th>\n",
       "      <td>7.100000</td>\n",
       "      <td>1.171330e+05</td>\n",
       "      <td>2016.000000</td>\n",
       "      <td>119.000000</td>\n",
       "      <td>6.120000e+07</td>\n",
       "      <td>8.195000e+07</td>\n",
       "    </tr>\n",
       "    <tr>\n",
       "      <th>max</th>\n",
       "      <td>9.200000</td>\n",
       "      <td>1.841066e+06</td>\n",
       "      <td>2019.000000</td>\n",
       "      <td>272.000000</td>\n",
       "      <td>7.001000e+08</td>\n",
       "      <td>9.464000e+08</td>\n",
       "    </tr>\n",
       "  </tbody>\n",
       "</table>\n",
       "</div>"
      ],
      "text/plain": [
       "       averagerating      numvotes   start_year  runtime_minutes  \\\n",
       "count    1767.000000  1.767000e+03  1767.000000      1767.000000   \n",
       "mean        6.459706  9.692010e+04  2013.559706       107.895869   \n",
       "std         0.991033  1.539057e+05     2.621180        20.105904   \n",
       "min         1.600000  5.000000e+00  2010.000000         3.000000   \n",
       "25%         5.900000  6.392500e+03  2011.000000        95.000000   \n",
       "50%         6.500000  3.987000e+04  2013.000000       106.000000   \n",
       "75%         7.100000  1.171330e+05  2016.000000       119.000000   \n",
       "max         9.200000  1.841066e+06  2019.000000       272.000000   \n",
       "\n",
       "       domestic_gross  foreign_gross  \n",
       "count    1.767000e+03   1.767000e+03  \n",
       "mean     5.008103e+07   7.959582e+07  \n",
       "std      8.101089e+07   1.403646e+08  \n",
       "min      4.000000e+02   6.000000e+02  \n",
       "25%      1.300000e+06   4.900000e+06  \n",
       "50%      2.110000e+07   2.150000e+07  \n",
       "75%      6.120000e+07   8.195000e+07  \n",
       "max      7.001000e+08   9.464000e+08  "
      ]
     },
     "execution_count": 20,
     "metadata": {},
     "output_type": "execute_result"
    }
   ],
   "source": [
    "#overal statistics the dataset\n",
    "df.describe()"
   ]
  },
  {
   "cell_type": "markdown",
   "metadata": {},
   "source": [
    "It is interesting that there is a difference between the mean and the median value of numvotes, domestic_gross and froreign_gross. Both of these statistics are supposed to give an idea of the \"typical\" value for the column, so why is there difference of one between them? to answer this question we need how the runtime in minites are distributed in our dataset. we'll look at it in two ways, by a histogram and a boxplot.\n"
   ]
  },
  {
   "cell_type": "code",
   "execution_count": 21,
   "metadata": {},
   "outputs": [
    {
     "data": {
      "image/png": "[encoded data removed]",
      "text/plain": [
       "<Figure size 432x288 with 1 Axes>"
      ]
     },
     "metadata": {
      "needs_background": "light"
     },
     "output_type": "display_data"
    }
   ],
   "source": [
    "ax=sns.histplot(data=df, x=\"runtime_minutes\", bins=30)\n",
    "ax.set_title('Distribution of runtime in minutes');"
   ]
  },
  {
   "cell_type": "code",
   "execution_count": 22,
   "metadata": {},
   "outputs": [
    {
     "data": {
      "image/png": "[encoded data removed]",
      "text/plain": [
       "<Figure size 432x288 with 1 Axes>"
      ]
     },
     "metadata": {
      "needs_background": "light"
     },
     "output_type": "display_data"
    }
   ],
   "source": [
    "# Select the data to be plotted\n",
    "data = df['runtime_minutes']\n",
    "\n",
    "# Plot the box plot\n",
    "plt.boxplot(data)\n",
    "\n",
    "# Add a title to the plot\n",
    "plt.title('Box Plot of Runtime in Minutes')\n",
    "\n",
    "# Add a label to the y-axis\n",
    "plt.ylabel('Runtime in Minutes')\n",
    "\n",
    "# Show the plot\n",
    "plt.show()\n"
   ]
  },
  {
   "cell_type": "markdown",
   "metadata": {},
   "source": [
    "It seems there are movies with less than 5 minutes, which is unreal and will not help in our analysis. We will drop this row."
   ]
  },
  {
   "cell_type": "code",
   "execution_count": 23,
   "metadata": {},
   "outputs": [
    {
     "name": "stdout",
     "output_type": "stream",
     "text": [
      "     averagerating  numvotes primary_title  start_year  runtime_minutes  \\\n",
      "482            6.7        10     Limitless        2015              3.0   \n",
      "\n",
      "    studio  domestic_gross  foreign_gross      genre  \n",
      "482  Rela.      79200000.0     82600000.0  Biography  \n"
     ]
    }
   ],
   "source": [
    "#identifying the movie with less that 5 minutes runtime\n",
    "data=df[df['runtime_minutes']<=20]\n",
    "print(data)"
   ]
  },
  {
   "cell_type": "code",
   "execution_count": 24,
   "metadata": {},
   "outputs": [
    {
     "data": {
      "text/plain": [
       "0"
      ]
     },
     "execution_count": 24,
     "metadata": {},
     "output_type": "execute_result"
    }
   ],
   "source": [
    "df.duplicated().sum()"
   ]
  },
  {
   "cell_type": "code",
   "execution_count": 25,
   "metadata": {},
   "outputs": [
    {
     "data": {
      "text/html": [
       "<div>\n",
       "<style scoped>\n",
       "    .dataframe tbody tr th:only-of-type {\n",
       "        vertical-align: middle;\n",
       "    }\n",
       "\n",
       "    .dataframe tbody tr th {\n",
       "        vertical-align: top;\n",
       "    }\n",
       "\n",
       "    .dataframe thead th {\n",
       "        text-align: right;\n",
       "    }\n",
       "</style>\n",
       "<table border=\"1\" class=\"dataframe\">\n",
       "  <thead>\n",
       "    <tr style=\"text-align: right;\">\n",
       "      <th></th>\n",
       "      <th>averagerating</th>\n",
       "      <th>numvotes</th>\n",
       "      <th>primary_title</th>\n",
       "      <th>start_year</th>\n",
       "      <th>runtime_minutes</th>\n",
       "      <th>studio</th>\n",
       "      <th>domestic_gross</th>\n",
       "      <th>foreign_gross</th>\n",
       "      <th>genre</th>\n",
       "    </tr>\n",
       "  </thead>\n",
       "  <tbody>\n",
       "    <tr>\n",
       "      <th>0</th>\n",
       "      <td>4.2</td>\n",
       "      <td>50352</td>\n",
       "      <td>The Legend of Hercules</td>\n",
       "      <td>2014</td>\n",
       "      <td>99.0</td>\n",
       "      <td>LG/S</td>\n",
       "      <td>18800000.0</td>\n",
       "      <td>42400000.0</td>\n",
       "      <td>Action</td>\n",
       "    </tr>\n",
       "    <tr>\n",
       "      <th>1</th>\n",
       "      <td>5.1</td>\n",
       "      <td>8296</td>\n",
       "      <td>Baggage Claim</td>\n",
       "      <td>2013</td>\n",
       "      <td>96.0</td>\n",
       "      <td>FoxS</td>\n",
       "      <td>21600000.0</td>\n",
       "      <td>887000.0</td>\n",
       "      <td>Comedy</td>\n",
       "    </tr>\n",
       "    <tr>\n",
       "      <th>3</th>\n",
       "      <td>7.6</td>\n",
       "      <td>326657</td>\n",
       "      <td>Moneyball</td>\n",
       "      <td>2011</td>\n",
       "      <td>133.0</td>\n",
       "      <td>Sony</td>\n",
       "      <td>75600000.0</td>\n",
       "      <td>34600000.0</td>\n",
       "      <td>Biography</td>\n",
       "    </tr>\n",
       "    <tr>\n",
       "      <th>4</th>\n",
       "      <td>6.5</td>\n",
       "      <td>87288</td>\n",
       "      <td>Hereafter</td>\n",
       "      <td>2010</td>\n",
       "      <td>129.0</td>\n",
       "      <td>WB</td>\n",
       "      <td>32700000.0</td>\n",
       "      <td>72500000.0</td>\n",
       "      <td>Drama</td>\n",
       "    </tr>\n",
       "    <tr>\n",
       "      <th>5</th>\n",
       "      <td>7.4</td>\n",
       "      <td>428142</td>\n",
       "      <td>Mission: Impossible - Ghost Protocol</td>\n",
       "      <td>2011</td>\n",
       "      <td>132.0</td>\n",
       "      <td>Par.</td>\n",
       "      <td>209400000.0</td>\n",
       "      <td>485300000.0</td>\n",
       "      <td>Action</td>\n",
       "    </tr>\n",
       "  </tbody>\n",
       "</table>\n",
       "</div>"
      ],
      "text/plain": [
       "   averagerating  numvotes                         primary_title  start_year  \\\n",
       "0            4.2     50352                The Legend of Hercules        2014   \n",
       "1            5.1      8296                         Baggage Claim        2013   \n",
       "3            7.6    326657                             Moneyball        2011   \n",
       "4            6.5     87288                             Hereafter        2010   \n",
       "5            7.4    428142  Mission: Impossible - Ghost Protocol        2011   \n",
       "\n",
       "   runtime_minutes studio  domestic_gross  foreign_gross      genre  \n",
       "0             99.0   LG/S      18800000.0     42400000.0     Action  \n",
       "1             96.0   FoxS      21600000.0       887000.0     Comedy  \n",
       "3            133.0   Sony      75600000.0     34600000.0  Biography  \n",
       "4            129.0     WB      32700000.0     72500000.0      Drama  \n",
       "5            132.0   Par.     209400000.0    485300000.0     Action  "
      ]
     },
     "execution_count": 25,
     "metadata": {},
     "output_type": "execute_result"
    }
   ],
   "source": [
    "df = df.drop(df[df['runtime_minutes'] == 3].index)\n",
    "df.head()"
   ]
  },
  {
   "cell_type": "code",
   "execution_count": 26,
   "metadata": {},
   "outputs": [
    {
     "name": "stdout",
     "output_type": "stream",
     "text": [
      "Empty DataFrame\n",
      "Columns: [averagerating, numvotes, primary_title, start_year, runtime_minutes, studio, domestic_gross, foreign_gross, genre]\n",
      "Index: []\n"
     ]
    }
   ],
   "source": [
    "#confirming if the outlier is still there\n",
    "data=df[df['runtime_minutes']<=20]\n",
    "print(data)"
   ]
  },
  {
   "cell_type": "markdown",
   "metadata": {},
   "source": [
    "From this histogram, the average runtime for a movie is 107.895 minutes which is slightly differnt from the mean runtime, however this does not cause  big significance difference hence explaining its normal distribution."
   ]
  },
  {
   "cell_type": "code",
   "execution_count": 27,
   "metadata": {},
   "outputs": [
    {
     "data": {
      "image/png": "[encoded data removed]",
      "text/plain": [
       "<Figure size 432x288 with 1 Axes>"
      ]
     },
     "metadata": {
      "needs_background": "light"
     },
     "output_type": "display_data"
    }
   ],
   "source": [
    "ax=sns.histplot(data=df, x=\"numvotes\", bins=30)\n",
    "ax.set_title('Distribution of number of votes');"
   ]
  },
  {
   "cell_type": "code",
   "execution_count": 28,
   "metadata": {},
   "outputs": [
    {
     "data": {
      "image/png": "[encoded data removed]",
      "text/plain": [
       "<Figure size 432x288 with 1 Axes>"
      ]
     },
     "metadata": {
      "needs_background": "light"
     },
     "output_type": "display_data"
    }
   ],
   "source": [
    "# Select the data to be plotted\n",
    "data = df['numvotes']\n",
    "\n",
    "# Plot the box plot\n",
    "plt.boxplot(data)\n",
    "\n",
    "# Add a title to the plot\n",
    "plt.title('Box Plot of Number of Votes')\n",
    "\n",
    "# Add a label to the y-axis\n",
    "plt.ylabel('numvotes')\n",
    "\n",
    "# Show the plot\n",
    "plt.show()\n"
   ]
  },
  {
   "cell_type": "code",
   "execution_count": 29,
   "metadata": {},
   "outputs": [
    {
     "data": {
      "image/png": "[encoded data removed]",
      "text/plain": [
       "<Figure size 432x288 with 1 Axes>"
      ]
     },
     "metadata": {
      "needs_background": "light"
     },
     "output_type": "display_data"
    }
   ],
   "source": [
    "ax=sns.histplot(data=df, x=(\"foreign_gross\"), bins=30)\n",
    "ax.set_title('Distribution of gross international revenue');"
   ]
  },
  {
   "cell_type": "code",
   "execution_count": 30,
   "metadata": {},
   "outputs": [
    {
     "data": {
      "image/png": "[encoded data removed]",
      "text/plain": [
       "<Figure size 432x288 with 1 Axes>"
      ]
     },
     "metadata": {
      "needs_background": "light"
     },
     "output_type": "display_data"
    }
   ],
   "source": [
    "# Select the data to be plotted\n",
    "data = df['foreign_gross']\n",
    "\n",
    "# Plot the box plot\n",
    "plt.boxplot(data)\n",
    "\n",
    "# Add a title to the plot\n",
    "plt.title('Box Plot of International Revenue')\n",
    "\n",
    "# Add a label to the y-axis\n",
    "plt.ylabel('Foreign_gross')\n",
    "\n",
    "# Show the plot\n",
    "plt.show()\n"
   ]
  },
  {
   "cell_type": "code",
   "execution_count": 31,
   "metadata": {},
   "outputs": [
    {
     "data": {
      "image/png": "[encoded data removed]",
      "text/plain": [
       "<Figure size 432x288 with 1 Axes>"
      ]
     },
     "metadata": {
      "needs_background": "light"
     },
     "output_type": "display_data"
    }
   ],
   "source": [
    "ax=sns.histplot(data=df, x=\"domestic_gross\", bins=30)\n",
    "ax.set_title('Distribution of gross domestic revenue');"
   ]
  },
  {
   "cell_type": "code",
   "execution_count": 32,
   "metadata": {},
   "outputs": [
    {
     "data": {
      "image/png": "[encoded data removed]",
      "text/plain": [
       "<Figure size 432x288 with 1 Axes>"
      ]
     },
     "metadata": {
      "needs_background": "light"
     },
     "output_type": "display_data"
    }
   ],
   "source": [
    "# Select the data to be plotted\n",
    "data = df['domestic_gross']\n",
    "\n",
    "# Plot the box plot\n",
    "plt.boxplot(data)\n",
    "\n",
    "# Add a title to the plot\n",
    "plt.title('Box Plot of domestic_gross')\n",
    "\n",
    "# Add a label to the y-axis\n",
    "plt.ylabel('domestic_gross')\n",
    "\n",
    "# Show the plot\n",
    "plt.show()\n"
   ]
  },
  {
   "cell_type": "markdown",
   "metadata": {},
   "source": [
    "The above plots violates the normal distribution, and this explains the difference in their mean and median values."
   ]
  },
  {
   "cell_type": "markdown",
   "metadata": {},
   "source": [
    "## Exploratory data Analysis\n",
    "This includes visualizations on statistics, distributions and relationships within the data.\n",
    "## Goals\n",
    "1. conduct EDA on the dataset\n",
    "2. visualize the data to identify trends\n",
    "\n"
   ]
  },
  {
   "cell_type": "markdown",
   "metadata": {},
   "source": [
    "Exploring the type of genre."
   ]
  },
  {
   "cell_type": "code",
   "execution_count": 33,
   "metadata": {},
   "outputs": [
    {
     "data": {
      "text/plain": [
       "Action         458\n",
       "Drama          360\n",
       "Comedy         359\n",
       "Adventure      173\n",
       "Biography      137\n",
       "Crime           80\n",
       "Horror          76\n",
       "Documentary     65\n",
       "Animation       22\n",
       "Thriller        11\n",
       "Fantasy          9\n",
       "Mystery          7\n",
       "Romance          4\n",
       "Family           3\n",
       "Music            1\n",
       "Sci-Fi           1\n",
       "Name: genre, dtype: int64"
      ]
     },
     "execution_count": 33,
     "metadata": {},
     "output_type": "execute_result"
    }
   ],
   "source": [
    "# Calculate value counts for each genre in ascending order\n",
    "df['genre'].value_counts(ascending=False)"
   ]
  },
  {
   "cell_type": "code",
   "execution_count": 34,
   "metadata": {},
   "outputs": [
    {
     "data": {
      "image/png": "[encoded data removed]",
      "text/plain": [
       "<Figure size 432x288 with 1 Axes>"
      ]
     },
     "metadata": {
      "needs_background": "light"
     },
     "output_type": "display_data"
    }
   ],
   "source": [
    "#frequncy of each unique genre\n",
    "# Calculate value counts for each genre\n",
    "genre_counts = df['genre'].value_counts(ascending=False)\n",
    "# Plot the bar plot\n",
    "plt.bar(genre_counts.index, genre_counts.values)\n",
    "# Add labels to the x and y axes\n",
    "plt.xlabel('Genre')\n",
    "plt.ylabel('Counts')\n",
    "\n",
    "# Add a title to the plot\n",
    "plt.title('Genre Counts Bar Plot')\n",
    "plt.xticks(rotation=60)\n",
    "\n",
    "# Show the plot\n",
    "plt.show()"
   ]
  },
  {
   "cell_type": "markdown",
   "metadata": {},
   "source": [
    "Action, Drama and Comedy movies are the most frequent in the dataset."
   ]
  },
  {
   "cell_type": "code",
   "execution_count": 35,
   "metadata": {},
   "outputs": [
    {
     "data": {
      "image/png": "[encoded data removed]",
      "text/plain": [
       "<Figure size 432x288 with 1 Axes>"
      ]
     },
     "metadata": {
      "needs_background": "light"
     },
     "output_type": "display_data"
    }
   ],
   "source": [
    "#identifying the most rated genres\n",
    "# Calculate the average rating for each genre\n",
    "genre_ratings = df.groupby('genre')['averagerating'].mean()\n",
    "\n",
    "# Sort the genre ratings in descending order\n",
    "genre_ratings = genre_ratings.sort_values(ascending=False)\n",
    "\n",
    "# Plot the bar plot\n",
    "plt.bar(genre_ratings.index, genre_ratings.values)\n",
    "\n",
    "# Add labels to the x and y axes\n",
    "plt.xlabel('Genre')\n",
    "plt.ylabel('Average Rating')\n",
    "\n",
    "# Add a title to the plot\n",
    "plt.title('Average Rating by Genre Bar Plot')\n",
    "plt.xticks(rotation=60)\n",
    "\n",
    "# Show the plot\n",
    "plt.show()\n"
   ]
  },
  {
   "cell_type": "markdown",
   "metadata": {},
   "source": [
    "Music, Biography and  Documentary are the most rated genres"
   ]
  },
  {
   "cell_type": "markdown",
   "metadata": {},
   "source": [
    "## Possible reasons for difference in ratings\n",
    "Personal preferences: People's individual tastes and preferences play a significant role in how they rate movies. Some people may prefer more introspective or thought-provoking films, while others may prefer fast-paced action movies.\n",
    "\n",
    "Emotional engagement: Certain genres, such as music and biography, often evoke strong emotional responses in viewers, which can contribute to higher ratings. On the other hand, action movies are often more focused on action and plot than on emotional engagement.\n",
    "\n",
    "Subjectivity: Ratings are inherently subjective and can be influenced by many different factors, such as the viewer's mood, personal beliefs, and cultural background.\n",
    "\n",
    "Production quality: The production quality of a movie, including the cinematography, acting, and soundtrack, can also affect how it is rated. High-quality productions in certain genres, such as documentaries and biographies, are often better received by viewers.\n",
    "\n",
    "Marketing: The marketing strategies used for a movie can also affect its rating. Movies that are marketed as high-quality productions with good reviews may attract more viewers and higher ratings, regardless of genre."
   ]
  },
  {
   "cell_type": "code",
   "execution_count": 36,
   "metadata": {},
   "outputs": [
    {
     "data": {
      "image/png": "[encoded data removed]",
      "text/plain": [
       "<Figure size 432x288 with 1 Axes>"
      ]
     },
     "metadata": {
      "needs_background": "light"
     },
     "output_type": "display_data"
    }
   ],
   "source": [
    "#identifying the most voted genres\n",
    "# Calculate the number of votes for each genre\n",
    "genre_votes = df.groupby('genre')['numvotes'].sum()\n",
    "\n",
    "# Sort the genre votes in descending order\n",
    "genre_votes = genre_votes.sort_values(ascending=False)\n",
    "\n",
    "# Plot the bar plot\n",
    "plt.bar(genre_votes.index, genre_votes.values)\n",
    "\n",
    "# Add labels to the x and y axes\n",
    "plt.xlabel('Genre')\n",
    "plt.ylabel('Number of Votes')\n",
    "\n",
    "# Add a title to the plot\n",
    "plt.title('Number of Votes by Genre Bar Plot')\n",
    "\n",
    "#rotation of the xlabel values\n",
    "plt.xticks(rotation=60)\n",
    "\n",
    "# Show the plot\n",
    "plt.show()"
   ]
  },
  {
   "cell_type": "markdown",
   "metadata": {},
   "source": [
    "Action, Comedy and drama are the leading most voted genres."
   ]
  },
  {
   "cell_type": "code",
   "execution_count": 37,
   "metadata": {},
   "outputs": [
    {
     "data": {
      "image/png": "[encoded data removed]",
      "text/plain": [
       "<Figure size 432x288 with 1 Axes>"
      ]
     },
     "metadata": {
      "needs_background": "light"
     },
     "output_type": "display_data"
    }
   ],
   "source": [
    "#investigating the most voted movies\n",
    "# Calculate the number of votes for each movie title\n",
    "title_votes = df.groupby('primary_title')['numvotes'].sum()\n",
    "\n",
    "# Sort the title votes in descending order\n",
    "title_votes = title_votes.sort_values(ascending=False)\n",
    "\n",
    "# Plot the bar plot for the first 20 titles\n",
    "plt.bar(title_votes.index[:20], title_votes.values[:20])\n",
    "\n",
    "# Add labels to the x and y axes\n",
    "plt.xlabel('Movie Title')\n",
    "plt.ylabel('Number of Votes')\n",
    "\n",
    "# Add a title to the plot\n",
    "plt.title('Number of Votes by Movie Title Bar Plot (Top 20)')\n",
    "\n",
    "# Rotate the x-axis labels to prevent them from overlapping\n",
    "plt.xticks(rotation=90)\n",
    "\n",
    "# Show the plot\n",
    "plt.show()"
   ]
  },
  {
   "cell_type": "code",
   "execution_count": 38,
   "metadata": {},
   "outputs": [
    {
     "data": {
      "image/png": "[encoded data removed]",
      "text/plain": [
       "<Figure size 432x288 with 1 Axes>"
      ]
     },
     "metadata": {
      "needs_background": "light"
     },
     "output_type": "display_data"
    }
   ],
   "source": [
    "#identify the most rated movie\n",
    "# Calculate the average rating for each movie title\n",
    "title_ratings = df.groupby('primary_title')['averagerating'].mean()\n",
    "\n",
    "# Sort the title ratings in descending order\n",
    "title_ratings = title_ratings.sort_values(ascending=False)\n",
    "\n",
    "# Plot the bar plot for the first 20 titles\n",
    "plt.bar(title_ratings.index[:20], title_ratings.values[:20])\n",
    "\n",
    "# Add labels to the x and y axes\n",
    "plt.xlabel('Movie Title')\n",
    "plt.ylabel('Average Rating')\n",
    "\n",
    "# Add a title to the plot\n",
    "plt.title('Average Rating by Movie Title Bar Plot (Top 20)')\n",
    "\n",
    "# Rotate the x-axis labels to prevent them from overlapping\n",
    "plt.xticks(rotation=90)\n",
    "\n",
    "# Show the plot\n",
    "plt.show()"
   ]
  },
  {
   "cell_type": "code",
   "execution_count": 39,
   "metadata": {},
   "outputs": [
    {
     "data": {
      "image/png": "[encoded data removed]",
      "text/plain": [
       "<Figure size 432x288 with 1 Axes>"
      ]
     },
     "metadata": {
      "needs_background": "light"
     },
     "output_type": "display_data"
    }
   ],
   "source": [
    "# Calculate the domestic and international revenue for each genre\n",
    "genre_revenue = df.groupby('genre')[['domestic_gross', 'foreign_gross']].sum()\n",
    "\n",
    "# Sort the genre revenue in descending order\n",
    "genre_revenue = genre_revenue.sort_values(by=['domestic_gross', 'foreign_gross'], ascending=False)\n",
    "\n",
    "# Set the x-axis as the genre names\n",
    "x = np.arange(len(genre_revenue.index))\n",
    "\n",
    "# Plot the bar plot for the domestic and international revenue\n",
    "plt.bar(x - 0.2, genre_revenue['domestic_gross'], 0.2, label='Domestic Revenue')\n",
    "plt.bar(x, genre_revenue['foreign_gross'], 0.2, label='International Revenue')\n",
    "\n",
    "# Add labels to the x and y axes\n",
    "plt.xlabel('Movie Genre')\n",
    "plt.ylabel('Revenue (in millions)')\n",
    "\n",
    "# Add a title to the plot\n",
    "plt.title('Revenue by Movie Genre Bar Plot (Sorted)')\n",
    "\n",
    "# Add the genre names as x-axis labels\n",
    "plt.xticks(x, genre_revenue.index)\n",
    "\n",
    "# Add a legend to the plot\n",
    "plt.legend()\n",
    "\n",
    "# Rotate the x-axis labels to prevent them from overlapping\n",
    "plt.xticks(rotation=60)\n",
    "\n",
    "# Show the plot\n",
    "plt.show()\n"
   ]
  },
  {
   "cell_type": "code",
   "execution_count": 40,
   "metadata": {},
   "outputs": [
    {
     "data": {
      "image/png": "[encoded data removed]",
      "text/plain": [
       "<Figure size 432x288 with 1 Axes>"
      ]
     },
     "metadata": {
      "needs_background": "light"
     },
     "output_type": "display_data"
    }
   ],
   "source": [
    "\n",
    "# Calculate the combined domestic and international revenue for each title\n",
    "title_revenue = df.groupby('primary_title')[['domestic_gross', 'foreign_gross']].sum()\n",
    "\n",
    "# Sort the title revenue in descending order\n",
    "title_revenue = title_revenue.sort_values(by=['domestic_gross', 'foreign_gross'], ascending=False)\n",
    "\n",
    "# Take the first 20 rows of the title revenue\n",
    "title_revenue = title_revenue.iloc[:20,:]\n",
    "\n",
    "# Set the x-axis as the title names\n",
    "x = np.arange(len(title_revenue.index))\n",
    "\n",
    "# Plot the bar plot for the domestic and international revenue\n",
    "plt.bar(x - 0.2, title_revenue['domestic_gross'], 0.2, label='Domestic Revenue')\n",
    "plt.bar(x, title_revenue['foreign_gross'], 0.2, label='International Revenue')\n",
    "\n",
    "# Add labels to the x and y axes\n",
    "plt.xlabel('Movie Title')\n",
    "plt.ylabel('Revenue (in millions)')\n",
    "\n",
    "# Add a title to the plot\n",
    "plt.title('Top 20 Movies by Combined Revenue Bar Plot')\n",
    "\n",
    "# Add the title names as x-axis labels\n",
    "plt.xticks(x, title_revenue.index, rotation=90)\n",
    "\n",
    "# Add a legend to the plot\n",
    "plt.legend()\n",
    "\n",
    "# Show the plot\n",
    "plt.show()\n"
   ]
  },
  {
   "cell_type": "code",
   "execution_count": 41,
   "metadata": {},
   "outputs": [
    {
     "data": {
      "image/png": "[encoded data removed]",
      "text/plain": [
       "<Figure size 432x288 with 1 Axes>"
      ]
     },
     "metadata": {
      "needs_background": "light"
     },
     "output_type": "display_data"
    }
   ],
   "source": [
    "# Calculate the combined domestic and international revenue for each studio\n",
    "studio_revenue = df.groupby('studio')[['domestic_gross', 'foreign_gross']].sum()\n",
    "\n",
    "# Sort the studio revenue in descending order\n",
    "studio_revenue = studio_revenue.sort_values(by=['domestic_gross', 'foreign_gross'], ascending=False)\n",
    "\n",
    "# Take the first 20 rows of the studio revenue\n",
    "studio_revenue = studio_revenue.iloc[:20,:]\n",
    "\n",
    "# Set the x-axis as the studio names\n",
    "x = np.arange(len(studio_revenue.index))\n",
    "\n",
    "# Plot the bar plot for the domestic and international revenue\n",
    "plt.bar(x - 0.2, studio_revenue['domestic_gross'], 0.2, label='Domestic Revenue')\n",
    "plt.bar(x, studio_revenue['foreign_gross'], 0.2, label='International Revenue')\n",
    "\n",
    "# Add labels to the x and y axes\n",
    "plt.xlabel('Studio')\n",
    "plt.ylabel('Revenue (in millions)')\n",
    "\n",
    "# Add a title to the plot\n",
    "plt.title('Top 20 Studios by Combined Revenue Bar Plot')\n",
    "\n",
    "# Add the studio names as x-axis labels\n",
    "plt.xticks(x, studio_revenue.index, rotation=90)\n",
    "\n",
    "# Add a legend to the plot\n",
    "plt.legend()\n",
    "\n",
    "# Show the plot\n",
    "plt.show()\n"
   ]
  },
  {
   "cell_type": "markdown",
   "metadata": {},
   "source": [
    "First 20 studios with the most rated movie. Majority generates more revenue on international level compared to domestically."
   ]
  },
  {
   "cell_type": "code",
   "execution_count": 42,
   "metadata": {},
   "outputs": [
    {
     "data": {
      "image/png": "[encoded data removed]",
      "text/plain": [
       "<Figure size 432x288 with 1 Axes>"
      ]
     },
     "metadata": {
      "needs_background": "light"
     },
     "output_type": "display_data"
    }
   ],
   "source": [
    "# Calculate the number of rated movies for each studio\n",
    "studio_ratings = df['studio'].value_counts()\n",
    "\n",
    "# Sort the studio ratings in descending order\n",
    "studio_ratings = studio_ratings.sort_values(ascending=False)\n",
    "\n",
    "# Take the first 20 rows of the studio ratings\n",
    "studio_ratings = studio_ratings.iloc[:20]\n",
    "\n",
    "# Set the x-axis as the studio names\n",
    "x = np.arange(len(studio_ratings.index))\n",
    "\n",
    "# Plot the bar plot for the number of rated movies\n",
    "plt.bar(x, studio_ratings.values)\n",
    "\n",
    "# Add labels to the x and y axes\n",
    "plt.xlabel('Studio')\n",
    "plt.ylabel('Number of Rated Movies')\n",
    "\n",
    "# Add a title to the plot\n",
    "plt.title('Top 20 Studios by Number of Rated Movies Bar Plot')\n",
    "\n",
    "# Add the studio names as x-axis labels\n",
    "plt.xticks(x, studio_ratings.index, rotation=90)\n",
    "\n",
    "# Show the plot\n",
    "plt.show()\n"
   ]
  },
  {
   "cell_type": "markdown",
   "metadata": {},
   "source": [
    "## Possible reasons for high rating in other studios compared to other\n",
    "Quality of productions: Studios with a reputation for producing high-quality films are likely to receive higher ratings, as viewers have come to expect a certain level of production value from them.\n",
    "\n",
    "Consistency: Studios that consistently produce films in a particular genre or style are more likely to be rated highly in that genre or style, as viewers come to associate the studio with that type of film.\n",
    "\n",
    "Marketing strategies: A studio's marketing strategies can also influence the ratings of their films. Studios that invest heavily in marketing their films are more likely to attract a larger audience and receive higher ratings.\n",
    "\n",
    "Viewer demographics: Different studios may appeal to different demographic groups, which can influence their ratings. For example, a studio that produces family-friendly films may be more highly rated by families with young children, while a studio that produces more mature or edgy films may be more highly rated by a different demographic.\n",
    "\n",
    "Brand recognition: Studios with a strong brand reputation are more likely to receive higher ratings, as viewers may have a preconceived notion about the quality of the studio's films based on their past experiences.\n",
    "\n",
    "Ultimately, the reasons why some studios are more highly rated than others are complex and multifaceted, and can vary based on the individual studio and film."
   ]
  },
  {
   "cell_type": "code",
   "execution_count": 43,
   "metadata": {},
   "outputs": [
    {
     "data": {
      "image/png": "[encoded data removed]",
      "text/plain": [
       "<Figure size 432x288 with 1 Axes>"
      ]
     },
     "metadata": {
      "needs_background": "light"
     },
     "output_type": "display_data"
    }
   ],
   "source": [
    "# Group the data by start year\n",
    "grouped_df = df.groupby('start_year').agg({'domestic_gross': 'sum', 'foreign_gross': 'sum'})\n",
    "\n",
    "# Plot the line plots for domestic and international revenue by start year\n",
    "plt.plot(grouped_df.index, grouped_df['domestic_gross'], label='Domestic Revenue')\n",
    "plt.plot(grouped_df.index, grouped_df['foreign_gross'], label='International Revenue')\n",
    "\n",
    "# Add labels to the x and y axes\n",
    "plt.xlabel('Start Year')\n",
    "plt.ylabel('Total Revenue (in millions)')\n",
    "\n",
    "# Add a title to the plot\n",
    "plt.title('Revenue generated both domestically and internationally over the years')\n",
    "\n",
    "# Add a legend to the plot\n",
    "plt.legend()\n",
    "\n",
    "# Show the plot\n",
    "plt.show()\n"
   ]
  },
  {
   "cell_type": "markdown",
   "metadata": {},
   "source": [
    "## Possible causes for the downtrend in revenue collection from 2016 could be;\n",
    "\n",
    "Competition from other forms of entertainment: The growth of streaming services and other forms of digital entertainment has increased competition for movie theaters.\n",
    "\n",
    "Economic factors: The overall economic climate can affect the movie industry. For example, during a recession, people may have less disposable income to spend on entertainment, leading to a decrease in movie revenue.\n",
    "\n",
    "Changes in technology: The advancement of technology has allowed consumers to access movies through various platforms, such as streaming services, DVD rentals, and online downloads. This has led to a decrease in revenue for movie theaters.\n",
    "\n",
    "Changing audience preferences: The tastes and preferences of moviegoers change over time. If a particular genre or type of movie is no longer in demand, this could lead to a decrease in revenue for the movie industry.\n",
    "\n",
    "Quality of films: Poorly-received films can negatively impact the overall revenue for the movie industry. If a high number of releases receive negative reviews or have low attendance, it can contribute to a fall in trend of movie revenue collection."
   ]
  },
  {
   "cell_type": "markdown",
   "metadata": {},
   "source": [
    "Correlation between the runtimes and number of votes and average rating"
   ]
  },
  {
   "cell_type": "code",
   "execution_count": 44,
   "metadata": {},
   "outputs": [
    {
     "data": {
      "text/plain": [
       "0.33379995293842174"
      ]
     },
     "execution_count": 44,
     "metadata": {},
     "output_type": "execute_result"
    }
   ],
   "source": [
    "#correlation\n",
    "df['runtime_minutes'].corr(df['numvotes'])"
   ]
  },
  {
   "cell_type": "code",
   "execution_count": 45,
   "metadata": {},
   "outputs": [
    {
     "data": {
      "text/plain": [
       "0.2500941557703461"
      ]
     },
     "execution_count": 45,
     "metadata": {},
     "output_type": "execute_result"
    }
   ],
   "source": [
    "#correlation\n",
    "df['runtime_minutes'].corr(df['averagerating'])"
   ]
  },
  {
   "cell_type": "markdown",
   "metadata": {},
   "source": [
    "A correlaton bellow 0.5 indicates weak correlation, which means a movie could run for over 2 hours and still be rated highly, or have a runtime of below 70 minutes and still be rated highly.\n",
    "From the previous visualizations, remarkable rating could result from  the type of genre and also the studio type."
   ]
  },
  {
   "cell_type": "markdown",
   "metadata": {},
   "source": [
    "In conclusion, this project represents a major opportunity for Microsoft to enter the movie production business and tap into the growing demand for original video content. With a comprehensive analysis of the movie industry, Microsoft can make informed decisions about the types of movies to produce, ensuring the success of their new movie studio."
   ]
  }
 ],
 "metadata": {
  "kernelspec": {
   "display_name": "Python 3",
   "language": "python",
   "name": "python3"
  },
  "language_info": {
   "codemirror_mode": {
    "name": "ipython",
    "version": 3
   },
   "file_extension": ".py",
   "mimetype": "text/x-python",
   "name": "python",
   "nbconvert_exporter": "python",
   "pygments_lexer": "ipython3",
   "version": "3.8.5"
  }
 },
 "nbformat": 4,
 "nbformat_minor": 2
}
